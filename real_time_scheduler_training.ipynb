{
 "cells": [
  {
   "cell_type": "markdown",
   "metadata": {},
   "source": [
    "# Моделирование и тестирование адаптивного планирования в реальном времени (Real-Time Scheduler)\n",
    "\n",
    "**Цель:** Реагировать на события дня и моментально предлагать новый расклад расписания.\n"
   ]
  },
  {
   "cell_type": "markdown",
   "metadata": {},
   "source": [
    "## 1. Импорт библиотек и подключение к базе данных PostgreSQL (medical_db)"
   ]
  },
  {
   "cell_type": "code",
   "execution_count": null,
   "metadata": {},
   "outputs": [],
   "source": [
    "import os, json, logging, warnings\n",
    "from datetime import datetime, timedelta\n",
    "import pandas as pd\n",
    "import numpy as np\n",
    "warnings.filterwarnings('ignore')\n",
    "\n",
    "from sqlalchemy import create_engine, text\n",
    "from sqlalchemy.exc import OperationalError\n",
    "from fastapi import FastAPI, WebSocket\n",
    "import uvicorn, asyncio, aiokafka\n",
    "\n",
    "# Настройки подключения к medical_db\n",
    "DB_CONFIG = {\n",
    "    'host': 'localhost',\n",
    "    'database': 'medical_db',\n",
    "    'user': 'postgres',\n",
    "    'password': 'postgres',\n",
    "    'port': '5432'\n",
    "}\n",
    "engine = create_engine(f\"postgresql://{DB_CONFIG['user']}:{DB_CONFIG['password']}@{DB_CONFIG['host']}:{DB_CONFIG['port']}/{DB_CONFIG['database']}\")\n",
    "print(\"Подключение к medical_db установлено\")"
   ]
  },
  {
   "cell_type": "markdown",
   "metadata": {},
   "source": [
    "## 2. Имитация событий (опоздание, неявка, экстренный случай) и загрузка расписания"
   ]
  },
  {
   "cell_type": "code",
   "execution_count": null,
   "metadata": {},
   "outputs": [],
   "source": []
  },
  {
   "cell_type": "code",
   "execution_count": null,
   "metadata": {},
   "outputs": [],
   "source": [
    "# Загрузка расписания на сегодня\n",
    "query = \"\"\"\n",
    "SELECT \n",
    "    p.PLANNING_ID, p.DATE_CONS, p.HEURE, p.MEDECINS_CREATOR_ID, p.PATIENTS_ID,\n",
    "    p.CANCELLED, p.CITO, p.STATUS, p.ARRIVE_DATE,\n",
    "    m.SPECIALISATION_ID, m.FM_DEP_ID\n",
    "FROM PLANNING p\n",
    "LEFT JOIN MEDECINS m ON p.MEDECINS_CREATOR_ID = m.MEDECINS_ID\n",
    "WHERE p.DATE_CONS = CURRENT_DATE\n",
    "\"\"\"\n",
    "df = pd.read_sql(query, engine)\n",
    "print(f'Загружено {len(df)} записей на сегодня')\n",
    "df.head()"
   ]
  },
  {
   "cell_type": "markdown",
   "metadata": {},
   "source": [
    "## 3. Генерация событий (опоздание врача, неявка, экстренный случай)"
   ]
  },
  {
   "cell_type": "code",
   "execution_count": null,
   "metadata": {},
   "outputs": [],
   "source": [
    "# Пример генерации событий\n",
    "np.random.seed(42)\n",
    "events = []\n",
    "for idx, row in df.iterrows():\n",
    "    if np.random.rand() < 0.05:\n",
    "        events.append({'type': 'doctor_late', 'planning_id': row['PLANNING_ID']})\n",
    "    if np.random.rand() < 0.03:\n",
    "        events.append({'type': 'no_show', 'planning_id': row['PLANNING_ID']})\n",
    "    if np.random.rand() < 0.01:\n",
    "        events.append({'type': 'emergency', 'planning_id': row['PLANNING_ID']})\n",
    "print(f'Сгенерировано {len(events)} событий')\n",
    "events[:5]"
   ]
  },
  {
   "cell_type": "markdown",
   "metadata": {},
   "source": [
    "## 4. Получение текущего состояния расписания (state-vector) и анализ очереди ожидания"
   ]
  },
  {
   "cell_type": "code",
   "execution_count": null,
   "metadata": {},
   "outputs": [],
   "source": [
    "# Пример анализа очереди ожидания\n",
    "waiting_queue = df[df['STATUS'] == 'waiting']\n",
    "print(f'В очереди {len(waiting_queue)} пациентов')\n",
    "waiting_queue.head()"
   ]
  },
  {
   "cell_type": "markdown",
   "metadata": {},
   "source": [
    "## 5. Алгоритм пере-расписания: минимизация задержек, приоритеты (CITO, VIP)"
   ]
  },
  {
   "cell_type": "code",
   "execution_count": null,
   "metadata": {},
   "outputs": [],
   "source": [
    "# Эвристика: сортировка очереди по приоритету и времени\n",
    "waiting_queue = waiting_queue.copy()\n",
    "waiting_queue['priority'] = waiting_queue['CITO'].map({'Y': 2, 'N': 1}).fillna(1)\n",
    "waiting_queue = waiting_queue.sort_values(['priority', 'HEURE'], ascending=[False, True])\n",
    "print('Топ-5 пациентов по приоритету:')\n",
    "waiting_queue.head()"
   ]
  },
  {
   "cell_type": "markdown",
   "metadata": {},
   "source": [
    "## 6. Корректировка расписания и сохранение снэпшотов"
   ]
  },
  {
   "cell_type": "code",
   "execution_count": null,
   "metadata": {},
   "outputs": [],
   "source": [
    "# Пример корректировки: перенос времени приема\n",
    "for event in events:\n",
    "    if event['type'] == 'doctor_late':\n",
    "        # Переносим все приемы врача на +15 минут\n",
    "        doctor_id = df.loc[df['PLANNING_ID'] == event['planning_id'], 'MEDECINS_CREATOR_ID'].values[0]\n",
    "        mask = df['MEDECINS_CREATOR_ID'] == doctor_id\n",
    "        df.loc[mask, 'HEURE'] = pd.to_datetime(df.loc[mask, 'HEURE']) + timedelta(minutes=15)\n",
    "    if event['type'] == 'no_show':\n",
    "        # Освобождаем слот, добавляем пациента из очереди\n",
    "        pass  # Здесь логика добавления резервного пациента\n",
    "    if event['type'] == 'emergency':\n",
    "        # Вставка экстренного пациента\n",
    "        pass\n",
    "print('Корректировка расписания завершена')"
   ]
  },
  {
   "cell_type": "markdown",
   "metadata": {},
   "source": [
    "## 7. Сохранение снэпшотов и анализ отклонений"
   ]
  },
  {
   "cell_type": "code",
   "execution_count": null,
   "metadata": {},
   "outputs": [],
   "source": [
    "# Сохраняем снэпшот изменений\n",
    "snapshot = df[['PLANNING_ID', 'HEURE']].copy()\n",
    "snapshot['SNAP_ID'] = datetime.now().strftime('%Y%m%d%H%M%S')\n",
    "snapshot['DATE_CHANGE'] = datetime.now()\n",
    "snapshot.to_csv('pl_snapshot.csv', index=False)\n",
    "print('Снэпшот расписания сохранён в pl_snapshot.csv')"
   ]
  }
 ],
 "metadata": {
  "kernelspec": {
   "display_name": "Python 3",
   "language": "python",
   "name": "python3"
  },
  "language_info": {
   "name": "python",
   "version": "3.8"
  }
 },
 "nbformat": 4,
 "nbformat_minor": 2
}
